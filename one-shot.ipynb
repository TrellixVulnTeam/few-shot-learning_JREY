{
 "cells": [
  {
   "cell_type": "markdown",
   "metadata": {},
   "source": [
    "# Few-Shot Learning\n",
    "\n",
    "<!-- **Challenge:** [Omniglot](https://github.com/brendenlake/omniglot), the \"transpose\" of MNIST, with 1,623 character classes, each with 20 examples. Is it possible to build a few-shot classifier with a target of <35% error rate? -->\n",
    "\n",
    "Humans exhibit a strong ability to acquire and recognize new patterns. In particular, we observe that when presented with stimuli, people seem to be able to understand new concepts quickly and then recognize variations on these concepts in future percepts. [Machine learning](https://wikipedia.com/wiki/Machine_learning) has been successfully used to achieve *state-of- the-art* performance in a variety of applications such as web search, spam detection, caption generation, and speech and image recognition. However, these algorithms often break down when forced to make predictions about data for which little supervised information is available. We desire to generalize to these unfamiliar categories without necessitating extensive retraining which may be either expensive or impossible due to limited data or in an online prediction setting, such as web retrieval.\n",
    "\n",
    "One particularly interesting task is classification under the restriction that we may only observe a single example of each possible class before making a prediction about a test instance. This is called [One-Shot Learning Problem](https://wikipedia.org/wiki/One-shot_learning). This should be distinguished from [Zero-shot Learning](https://analyticsindiamag.com/what-is-zero-shot-learning/), in which the model cannot look at any examples from the target classes.\n",
    "\n",
    "[Few-Shot Learning](https://codeburst.io/understanding-few-shot-intelligence-as-a-meta-learning-problem-7823a4cd4a0c) on the other hand *(which is the primary focus of this notebook)*; is a special case of one-shot learning that tries to learn from *a very small set of training examples* rather than one –as in the one-shot learning case.\n",
    "\n",
    "\n",
    "## Exploring the Dataset\n",
    "\n",
    "**[Omniglot](https://github.com/brendenlake/omniglot)** is a collection of **1,623** hand drawn characters from **50 alphabets**. Each of the 1,623 characters is drawn online via *Amazon's Mechanical Turk* by 20 different people at resolution of `105x105`. It is sometimes reffered to as the [\"Trasnpose of MNIST\"](), since it has 1,623 types of character with only 20 examples each *(perfect for few-shot learning)*, in contrast to [MNIST](https://yann.lecun.com/exdb/mnist/) having thousands of examples for only 10 digits *(not easy to come-by for real-word use case)*.\n",
    "\n",
    "![Omniglot Dataset](images/omniglot.png)\n",
    "\n",
    "\n",
    "### Structure of Omiglot Datasets\n",
    "\n",
    "```sh\n",
    "~ tree datasets/extracted -L 1\n",
    "datasets/extracted\n",
    "├── all_runs\n",
    "├── images_background\n",
    "└── images_evaluation\n",
    "\n",
    "3 directories, 0 files\n",
    "```\n",
    "\n",
    "Omniglot has 3 different dataset serving different purposes.\n",
    "\n",
    "- **`all_runs`**          - One-shot task.\n",
    "- **`images_background`** - Training set.\n",
    "- **`images_evaluation`** - Validation/ evaluation set.\n",
    "\n",
    "> **Usage:** The **`images_background`** will be used for training *a Model* for *Few-shot Learning* and then validated on **`images_evaluation`**. While the **`all_runs`** will be used for *One-shot task*.\n",
    "\n",
    "#### Training/Validation Dataset Structure\n",
    "\n",
    "The training data contains 30 different *Alphabets* and the validation data contains 20 different alphabets *(that aren't in the training set)*, each containing *Characters* written differently.\n",
    "\n",
    "```sh\n",
    "$datasets/extracted$ ~ tree images_background -L 2\n",
    "images_background\n",
    "├── Alphabet_of_the_Magi\n",
    "├── Anglo-Saxon_Futhorc\n",
    "├── Arcadian\n",
    "...\n",
    "├── Sanskrit\n",
    "├── Syriac_(Estrangelo)\n",
    "├── Tagalog\n",
    "└── Tifinagh\n",
    "\n",
    "30 directories, 0 files\n",
    "```\n",
    "\n",
    "#### Alphabet Structure\n",
    "\n",
    "A single *Alphabet* contains different *Characters*, each with 20 different *handwriting style*.\n",
    "\n",
    "```sh\n",
    "$datasets/extracted$ ~ tree images_background/Alphabet_of_the_Magi -L 2\n",
    "images_background/Alphabet_of_the_Magi\n",
    "├── character01\n",
    "│   ├── 0709_01.png\n",
    "│   ├── 0709_02.png\n",
    "│   ├── 0709_03.png\n",
    "│   ...\n",
    "│   ├── 0709_18.png\n",
    "│   ├── 0709_19.png\n",
    "│   └── 0709_20.png\n",
    "├── character02\n",
    "│   ├── 0710_01.png\n",
    "│   ├── 0710_02.png\n",
    "│   ├── 0710_03.png\n",
    "│   ...\n",
    "│   ├── 0710_18.png\n",
    "│   ├── 0710_19.png\n",
    "│   └── 0710_20.png\n",
    "...\n",
    "├── character19\n",
    "│   ├── 0727_01.png\n",
    "│   ├── 0727_02.png\n",
    "│   ├── 0727_03.png\n",
    "│   ...\n",
    "│   ├── 0727_18.png\n",
    "│   ├── 0727_19.png\n",
    "│   └── 0727_20.png\n",
    "└── character20\n",
    "    ├── 0728_01.png\n",
    "    ├── 0728_02.png\n",
    "    ├── 0728_03.png\n",
    "    ...\n",
    "    ├── 0728_18.png\n",
    "    ├── 0728_19.png\n",
    "    └── 0728_20.png\n",
    "\n",
    "20 directories, 400 files\n",
    "```\n",
    "\n",
    "#### One-shot Task Structure\n",
    "\n",
    "The **`all_runs`** folder consist of 20 runs each with a **training** and **test** folder.\n",
    "\n",
    "```sh\n",
    "$datasets/extracted$ ~ tree all_runs -L 2\n",
    "├── run01\n",
    "│   ├── class_labels.txt\n",
    "│   ├── test\n",
    "│   └── training\n",
    "├── run02\n",
    "│   ├── class_labels.txt\n",
    "│   ├── test\n",
    "│   └── training\n",
    "...\n",
    "├── run19\n",
    "│   ├── class_labels.txt\n",
    "│   ├── test\n",
    "│   └── training\n",
    "└── run20\n",
    "    ├── class_labels.txt\n",
    "    ├── test\n",
    "    └── training\n",
    "```\n",
    "\n",
    "`class_labels.txt` consist of pairs of matching images in the `test` and `training` directories. The `test` and `training` directories contain 20 unique images each, where a single image in `test` matches another image in `training`.\n",
    "\n",
    "The **One-shot** task is all about learning how to tell two images apart, i.e. Predict if two given images are of different or similar classes.\n",
    "\n",
    "![One-shot Task](images/one-shot-task.png)\n",
    "\n",
    "\n",
    "### Visualizing Dataset\n",
    "\n",
    "Haven explored the data and looked into the file structures and what they mean, it's time to start looking at the actual images to see for ourselves what we're trying to do.\n",
    "\n",
    "#### Training/Validation Dataset Visualization.\n",
    "\n",
    "Since the training and validation dataset have similar file structure, it's safe to say it can be visulaized in a similar way. The file structures represent various *Alphabets* and side each Alphabet are different characters written differently.\n",
    "\n",
    "> Visualization class has been nicely abstracted in the **`omniglot.Visualize`** class.\n",
    "\n",
    "To use the `omniglot.Visualize` class, we need to make a few imports."
   ]
  },
  {
   "cell_type": "code",
   "execution_count": 1,
   "metadata": {},
   "outputs": [],
   "source": [
    "%matplotlib inline\n",
    "\n",
    "# For OS operations.\n",
    "import os\n",
    "\n",
    "# # For Mathematical operations.\n",
    "# import numpy as np\n",
    "\n",
    "# # For High-level ML operations.\n",
    "# import tensorflow as tf\n",
    "# from tensorflow import keras\n",
    "\n",
    "# Helper package for omniglot's dataset & model.\n",
    "import omniglot"
   ]
  },
  {
   "cell_type": "markdown",
   "metadata": {},
   "source": [
    "The `omniglot.Visualize` has a relatively simple API. We provide the path to an Alphabet and then it plots a single letter (randommly) from 20 different characters of the Alphabet.\n",
    "\n",
    "Firstly, extract the dataset if it isn't already extracted. This can be achieved by calling `omniglot.Dataset.extract(...)` method –which takes in a single required argument: `path` to a compressed file. It will be extracted to a default directory, but you can also provide `extract_dir`."
   ]
  },
  {
   "cell_type": "code",
   "execution_count": 2,
   "metadata": {},
   "outputs": [
    {
     "name": "stdout",
     "output_type": "stream",
     "text": [
      "Already extracted to datasets/extracted/all_runs\n",
      "Already extracted to datasets/extracted/images_background\n",
      "Already extracted to datasets/extracted/images_evaluation\n"
     ]
    },
    {
     "data": {
      "image/png": "[encoded data removed]",
      "text/plain": [
       "<Figure size 432x288 with 20 Axes>"
      ]
     },
     "metadata": {},
     "output_type": "display_data"
    },
    {
     "data": {
      "image/png": "[encoded data removed]",
      "text/plain": [
       "<Figure size 432x288 with 20 Axes>"
      ]
     },
     "metadata": {},
     "output_type": "display_data"
    }
   ],
   "source": [
    "# Directory containing compressed files.\n",
    "comp_dir = omniglot.compressed_dir\n",
    "\n",
    "# Extract compressed dataset: `all_runs`, `images_background` & `images_evaluation`.\n",
    "all_runs_dir = omniglot.Dataset.extract(os.path.join(comp_dir, 'all_runs.tar.gz'))\n",
    "image_bg_dir = omniglot.Dataset.extract(os.path.join(comp_dir, 'images_background.tar.gz'))\n",
    "image_ev_dir = omniglot.Dataset.extract(os.path.join(comp_dir, 'images_evaluation.tar.gz'))\n",
    "\n",
    "# Visualize one random character from Greek alphabet of training set.\n",
    "omniglot.Visualize.symbols(directory=os.path.join(image_bg_dir, 'Greek'))\n",
    "\n",
    "# Visualize one random character from Mongolian alphabet of validation set.\n",
    "omniglot.Visualize.symbols(directory=os.path.join(image_ev_dir, 'Mongolian'))"
   ]
  },
  {
   "cell_type": "markdown",
   "metadata": {},
   "source": [
    "#### One-shot Task Visualization"
   ]
  },
  {
   "cell_type": "code",
   "execution_count": 3,
   "metadata": {},
   "outputs": [
    {
     "data": {
      "image/png": "[encoded data removed]",
      "text/plain": [
       "<Figure size 432x288 with 42 Axes>"
      ]
     },
     "metadata": {},
     "output_type": "display_data"
    }
   ],
   "source": [
    "# Visualize the first run & select the 3rd image in the test directory\n",
    "# and matching label in the train directory.\n",
    "# (Simply put; emphaize the 3rd matching digits in \"class_labels.txt\").\n",
    "omniglot.Visualize.runs(directory=os.path.join(all_runs_dir, 'run01'),\n",
    "                        index=2, title='One-shot Task')"
   ]
  },
  {
   "cell_type": "markdown",
   "metadata": {},
   "source": [
    "### The One-shot Learning Problem\n",
    "\n",
    "\n",
    "### N-way One-shot learning\n",
    "\n",
    "Given a tiny labelled training set $S$, which has $N$ examples, each vectors of the same dimension with a distinct label $y$.\n",
    "\n",
    "$$ S = \\{(x_i, y_i), ..., (x_N, y_N)\\} $$\n",
    "\n",
    "We're also given $\\hat{x}$, the test example it has to classify. Since exactly one example in the training set has the right class, the aim is to correctly predict which $y \\in S$ is the same as $\\hat{x}$'s label, $\\hat{y}$.\n",
    "\n",
    "- Real world problems might not always have the constraint that exactly one image has the correct class.\n",
    "\n",
    "- It's easy to generalize to k-shot learning by having there be $k$ examples for each $y_i$ rather than just one.\n",
    "\n",
    "- When $N$ is higher, there are more possible classes that $\\hat{x}$ can belong to, so it's harder to predict the correct one.\n",
    "\n",
    "- Randomly guessing will average ${100\\over n}\\%$ accuracy.\n",
    "\n",
    "### Data Pre-processing\n",
    "\n",
    "The `omniglot.Dataset` is made up of user friendly high level APIs to load, save, process, manage, format and manipulate dataset. Given the path to `image_background` or `image_evaluation` dataset, the `omniglot.Dataset` parses the path and creates image pairs and corresponding lables. It can also be run in training, testing or validation mode with the `mode` keyword argument which defaults to `Dataset.Mode.TRAIN`."
   ]
  },
  {
   "cell_type": "code",
   "execution_count": 4,
   "metadata": {},
   "outputs": [
    {
     "name": "stdout",
     "output_type": "stream",
     "text": [
      "Loading cached images & corresponding targets.\n",
      "\n",
      "Training data: (20, 105, 105, 1)\n",
      "train_data = Dataset(mode='TRAIN', cache=True, cache_dir='saved/images_background')\n",
      "Loading cached images & corresponding targets.\n",
      "\n",
      "Validation data: (20, 105, 105, 1)\n",
      "valid_data = Dataset(mode='VALIDATE', cache=True, cache_dir='saved/images_evaluation')\n"
     ]
    }
   ],
   "source": [
    "# To avoid writing `omniglot.Dataset`...\n",
    "Dataset = omniglot.Dataset\n",
    "\n",
    "# Create training data instance.\n",
    "train_data = Dataset(path=image_bg_dir, mode=Dataset.Mode.TRAIN)\n",
    "print(f'\\nTraining data: {train_data.shape}')\n",
    "print(f'train_data = {train_data}')\n",
    "\n",
    "# Create validation data instance.\n",
    "valid_data = Dataset(path=image_ev_dir, mode=Dataset.Mode.VALIDATE)\n",
    "print(f'\\nValidation data: {valid_data.shape}')\n",
    "print(f'valid_data = {valid_data}')"
   ]
  },
  {
   "cell_type": "markdown",
   "metadata": {},
   "source": [
    "## Exploring Models\n",
    "\n",
    "To solve the One-shot learning problem, we're going to need a model that learns to tell images part rather than classify images using the normal cross entropy loss function. Why classification won't work in this case is because there are very few images to learn from, therefore training a deep model on these few dataset is going to cause the model to [Overfit](https://en.wikipedia.org/wiki/Overfitting) to the few examples in the dataset.\n",
    "\n",
    "However, what we need is a model that learns to tell image pairs apart. That is, given two images from the same class: the model outputs a distance $d$ which represent the how far these imgae pairs are in the feature space. A small value of $d$ means the images are the same, while a large value of $d$ means the images are different. This raises the question: *How far should \"small\" be and how far should \"large\" be?* Well, this is up to be learnt by the model. Let's call the threshold $\\tau$ –Yes, yet another hyperparameter to worry about.\n",
    "\n",
    "A popular model that does this is called the [Siamese Network](https://hackernoon.com/one-shot-learning-with-siamese-networks-in-pytorch-8ddaab10340e). The Siamese network architecture consist of a \"twin neural net\", hence the name. Both networks are Convolutional Neural Network with shared parameters.\n",
    "\n",
    "![A simple 2 hidden layer siamese network for binary classification with logistic prediction p. The structure of the network is replicated across the top and bottom sections to form twin networks, with shared weight matrices at each layer.](images/weight-sharing.png)\n",
    "\n",
    "*A simple 2 hidden layer siamese network for binary classification with logistic prediction, $p$. The structure of the network is replicated across the top and bottom sections to form twin networks, with shared weight matrices at each layer.*\n",
    "\n",
    "### Model (Siamese Convolutional Neural Network)\n",
    "\n",
    "A standard [Siamese Convolutional Neural Network](https://wikipedia.com/wiki/Siamese_network) with $L$ layers each with $N_l$ units is used, where $h_{1, l}$ represents the hidden vector in layer $l$ for the first twin, and $h_{2,l}$ denotes the same for the second twin. **Rectified Linear (ReLU) Units** is exclusively used in the first $L-2$ layers and sigmoidal units in the remaining layers.\n",
    "\n",
    "The model consists of a sequence of convolutional layers, each of which uses a single channel with filters of varying size and a fixed stride of 1. The number of convolutional filters is specified as a multiple of 16 to optimize performance. The network applies a ReLU activation function to the output feature maps, optionally followed by max-pooling with a filter size and stride of 2. Thus the $k^{th}$ filter map in each layer takes the following form:\n",
    "\n",
    "$$ a^{(k)}_{1, m} = \\textrm{max-pool}(max(0, W^{(k)}_{l-1} \\star h_{1, (l-1)} + b_l), 2) $$\n",
    "\n",
    "$$ a^{(k)}_{2, m} = \\textrm{max-pool}(max(0, W^{(k)}_{l-1} \\star h_{2, (l-1)} + b_l), 2) $$\n",
    "\n",
    "where $W^{l-1, l}$ is the 3-dimensional tensor representing the feature maps for layer $l$ and $\\star$ is the valid convolutional operation corresponding to returning only those output units which were the result of complete overlap between each convolutional filter and the input feature maps.\n",
    "\n",
    "In a more simple terms: The model consist a **Twin Neural Network Architecture***, where each network is a **Convolutional Neural Network (CNN)**. Each network is fed an image pair & the model learns to predict how far apart or close together these image pairs are in the feature space. More visually, the Twin Neural Net looks like this:\n",
    "\n",
    "![Twin Network Architecture](images/Twin Network.png)\n",
    "\n",
    "Where each network is made up of a CNN with the following configurations:\n",
    "\n",
    "![Best convolutional architecture selected for verification task. Siamese twin is not depicted, but joins immediately after the 4096 unit fully-connected layer where the L1 component-wise distance between vectors is computed.](images/Siamese Network.png)\n",
    "\n",
    "> Best convolutional architecture selected for verification task. Siamese twin is not depicted, but joins immediately after the 4096 unit fully-connected layer where the $L_1$ component-wise distance between vectors is computed."
   ]
  },
  {
   "cell_type": "code",
   "execution_count": 5,
   "metadata": {},
   "outputs": [],
   "source": [
    "# Hyper-parameters.\n",
    "epochs, batch_size = 5, 32\n",
    "train_size, valid_size = len(train_data), len(valid_data)"
   ]
  },
  {
   "cell_type": "markdown",
   "metadata": {},
   "source": [
    "### Learning\n",
    "\n",
    "**Loss function.** Let $M$ represent the mini-batch size, where $i$ indexes the $i^{th}$ mini-batch. Now let $y(x^{(i)}_1, x^{(i)}_2)$ be a length-$M$ vector which contains the labels for the mini-batch, where $y(x^{(i)}_1, x^{(i)}_2) = 1$ whenever $x_1$ and $x_2$ are from the same character class and $y(x^{(i)}_1, x^{(i)}_2) = 0$ otherwise. A regularized cross-entropy objective is imposed on a binary classifier of the following form:\n",
    "\n",
    "$$ \\ell(x^{(i)}_1, x^{(i)}_2) = y(x^{(i)}_1, x^{(i)}_2)\\log{p(x^{(i)}_1, x^{(i)}_2)} + (1 - y(x^{(i)}_1, x^{(i)}_2)) \\log{(1 - p(x^{(i)}_1, x^{(i)}_2))} + \\lambda^T\\big|w\\big|^2 $$"
   ]
  },
  {
   "cell_type": "code",
   "execution_count": 6,
   "metadata": {},
   "outputs": [
    {
     "name": "stdout",
     "output_type": "stream",
     "text": [
      "__________________________________________________________________________________________________\n",
      "Layer (type)                    Output Shape         Param #     Connected to                     \n",
      "==================================================================================================\n",
      "input_1 (InputLayer)            (None, 105, 105, 1)  0                                            \n",
      "__________________________________________________________________________________________________\n",
      "input_2 (InputLayer)            (None, 105, 105, 1)  0                                            \n",
      "__________________________________________________________________________________________________\n",
      "sequential (Sequential)         (None, 4096)         10636096    input_1[0][0]                    \n",
      "                                                                 input_2[0][0]                    \n",
      "__________________________________________________________________________________________________\n",
      "lambda (Lambda)                 (None, 4096)         0           sequential[1][0]                 \n",
      "                                                                 sequential[2][0]                 \n",
      "__________________________________________________________________________________________________\n",
      "dense_1 (Dense)                 (None, 1)            4097        lambda[0][0]                     \n",
      "==================================================================================================\n",
      "Total params: 10,640,193\n",
      "Trainable params: 10,640,193\n",
      "Non-trainable params: 0\n",
      "__________________________________________________________________________________________________\n",
      "\n",
      "Epoch 1/5\n",
      "  3/128 [..............................] - ETA: 30:46 - loss: 0.6916 - acc: 0.4323\n",
      "Training interrupted by user!\n",
      "\n",
      "-----------------------------------------------------------------\n",
      "Saving model...\n",
      "Saved model weights to \"saved/models/network.h5\"!\n",
      "-----------------------------------------------------------------\n",
      "\n"
     ]
    }
   ],
   "source": [
    "# Create a network instance to train dataset.\n",
    "network = omniglot.Network()\n",
    "\n",
    "# Train the network.\n",
    "network.train(train_data=train_data,\n",
    "              valid_data=valid_data,\n",
    "              epochs=epochs)"
   ]
  },
  {
   "cell_type": "code",
   "execution_count": null,
   "metadata": {},
   "outputs": [],
   "source": []
  },
  {
   "cell_type": "markdown",
   "metadata": {},
   "source": [
    "#### Using the Triplet Loss Function"
   ]
  },
  {
   "cell_type": "code",
   "execution_count": null,
   "metadata": {},
   "outputs": [],
   "source": [
    "# Define the Siamese Network Model.\n",
    "model = omniglot.SiameseNetwork()\n",
    "\n",
    "# Compile using: Adam optimizer,\n",
    "#                binary cross entropy loss function,\n",
    "#                and monitor accuracy metrics.\n",
    "model.compile(optimizer='adam',\n",
    "              loss=model.triplet_loss,\n",
    "              metrics=['accuracy'])"
   ]
  },
  {
   "cell_type": "code",
   "execution_count": null,
   "metadata": {},
   "outputs": [],
   "source": [
    "try:\n",
    "    # Get Training image pairs & targets.\n",
    "    train_pairs, train_targets = train_data.get(train_size)\n",
    "    valid_pairs, valid_targets = valid_data.get(valid_size)\n",
    "\n",
    "    # Train the network.\n",
    "    model.fit(train_pairs, train_targets, epochs=epochs,\n",
    "              batch_size=batch_size, shuffle=True,\n",
    "              validation_data=(valid_pairs, valid_targets))\n",
    "\n",
    "    # Save model weights.\n",
    "    print(f'\\n\\n{\"-\" * 65}\\nSaving model...')\n",
    "    model.save_weights(filepath=model.model_weights,\n",
    "                       overwrite=True, save_format=None)\n",
    "    print(f'Saved model weights to \"{model.model_weights}\"!')\n",
    "    print(f'{\"-\" * 65}\\n')\n",
    "\n",
    "except KeyboardInterrupt:\n",
    "    # When training is unexpectedly stopped!\n",
    "    print(f'\\n\\n{\"-\" * 65}')\n",
    "    print('Training interrupted!', 'Saving model...', sep='\\n')\n",
    "    model.save_weights(filepath=model.model_weights,\n",
    "                       overwrite=True, save_format=None)\n",
    "    print(f'Saved model weights to \"{model.model_weights}\"!')\n",
    "    print(f'{\"-\" * 65}\\n')"
   ]
  },
  {
   "cell_type": "markdown",
   "metadata": {},
   "source": [
    "### One-Shot Learning Baseline over Nearest Neighbor\n",
    "\n",
    "<!-- TODO: Finish up docs. -->\n",
    "\n",
    "The simplest way to perform classification is with **K-Nearest Neighbors**, but since there are only one example per class, we're only allowed 1 nearest neighbor lookup –which is really bad! K-Nearest Neigbors usually performs well with 5 neighbors or more *(but this also depends on dataset & it's sparsity)*.\n",
    "\n",
    "Nearest Neighbor: This is just a way of measuring distance in a higher dimensional plane using distance metrics such as [Euclidean Distance]().\n",
    "\n",
    "$$ \\textrm{Euclidean Distance} = \\sqrt{\\sum_i^n{(q_i - p_i)^2}}$$\n",
    "\n",
    "After calculating the Euclidean disance over `k` nearest neighbors. We then take the closest one:\n",
    "\n",
    "$$ C(\\hat{x}) = \\underset{c \\in S}{\\operatorname{argmax}} \\big\\|\\hat{x} - x_c\\big\\| $$\n",
    "\n",
    "After calculating the Euclidean disance over `k` nearest neighbors. We then take the closest one:\n"
   ]
  },
  {
   "cell_type": "code",
   "execution_count": null,
   "metadata": {},
   "outputs": [],
   "source": []
  }
 ],
 "metadata": {
  "kernelspec": {
   "display_name": "Python 3",
   "language": "python",
   "name": "python3"
  },
  "language_info": {
   "codemirror_mode": {
    "name": "ipython",
    "version": 3
   },
   "file_extension": ".py",
   "mimetype": "text/x-python",
   "name": "python",
   "nbconvert_exporter": "python",
   "pygments_lexer": "ipython3",
   "version": "3.6.5"
  }
 },
 "nbformat": 4,
 "nbformat_minor": 2
}
